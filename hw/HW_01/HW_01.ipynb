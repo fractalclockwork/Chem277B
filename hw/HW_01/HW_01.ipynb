{
 "cells": [
  {
   "cell_type": "markdown",
   "id": "f56e633d-e70a-4a95-b217-fd10bd8ab0f9",
   "metadata": {},
   "source": [
    "# Homework Assignment 1 - Chem 277B\n",
    "\n",
    "Author: Brent Allen Thorne\n",
    "\n",
    "**Warm Up**"
   ]
  },
  {
   "cell_type": "markdown",
   "id": "6b28275c-2fab-4a79-af21-a0277205ddea",
   "metadata": {},
   "source": [
    "## 1) Motivation"
   ]
  },
  {
   "cell_type": "markdown",
   "id": "91827ad2-b936-4249-9db5-01d834ea76a4",
   "metadata": {},
   "source": [
    "In this course we will focus on machine learning algorithms and their applications. For that purpose, you should be fluent in python and we therefore want to repeat a few programming and approximation techniques you might have learned in previous classes. If that was not the case, now you have the occasion to get them to know and also practice the application of these basic techniques.  "
   ]
  },
  {
   "cell_type": "markdown",
   "id": "58afc7fe-133f-40f2-8829-f5f9e7a09ea2",
   "metadata": {},
   "source": [
    "**Our Personanl Motivation**\n",
    "\n",
    "Our intent is to uncover new insights through experimentation, benchmarking, and reflection.\n",
    "\n",
    "The ultimaite goal is to challenge our assumptions, test boundaries, and deepen understanding through reproducible, performance-driven inquiry.\n",
    "\n",
    "$\\square$"
   ]
  },
  {
   "cell_type": "markdown",
   "id": "0c6cfef6-67a7-444f-a816-0f12aa8886da",
   "metadata": {},
   "source": [
    "## 2) Preparation"
   ]
  },
  {
   "cell_type": "markdown",
   "id": "eebc7113-2dce-4536-9695-8f500d538351",
   "metadata": {},
   "source": [
    "First, we want to import *numpy* and *matplotlob*:"
   ]
  },
  {
   "cell_type": "code",
   "execution_count": 1,
   "id": "0649d7bd-2b44-4ea9-8328-1964850ee186",
   "metadata": {},
   "outputs": [],
   "source": [
    "import numpy as np\n",
    "import matplotlib.pyplot as plt"
   ]
  },
  {
   "cell_type": "markdown",
   "id": "f6a770c5-468f-46c7-b6c3-41b211f79117",
   "metadata": {},
   "source": [
    "For many applications we need to work with derivatives, i.e. in case of gradient descent, backpropagation, for solving differential equations and for deriving approximations. One important method for deriving approximations is the **Taylor series**:\n",
    "<br>\n",
    "$$\n",
    "f(x) = \\sum_{n=0}^{\\infty}\\frac{1}{n!}\\frac{d^n f(x)}{dx^n}|_{x=x_0}\\left(x - x_0\\right)^n\n",
    "$$\n",
    "<br>"
   ]
  },
  {
   "cell_type": "markdown",
   "id": "0ded4678-132f-4b48-987b-228b23b56dbc",
   "metadata": {},
   "source": [
    "**Code Organization**\n",
    "\n",
    "We create a set of custom libraries to separate this notebook presentation from our source logic. Code snippets will be shown where appropriate, however full implementation details can be found in the supporting source files."
   ]
  },
  {
   "cell_type": "code",
   "execution_count": 2,
   "id": "8c7206f7-4784-42b3-b7f8-4b6aed38e440",
   "metadata": {},
   "outputs": [
    {
     "name": "stdout",
     "output_type": "stream",
     "text": [
      "HW_01.ipynb  kernel_registry.py  palindrome.py\ttaylor.py\n"
     ]
    }
   ],
   "source": [
    "import importlib\n",
    "import taylor as taylor\n",
    "import palindrome as palindrome\n",
    "\n",
    "importlib.reload(taylor)\n",
    "importlib.reload(palindrome)\n",
    "\n",
    "!ls *.*py* # show our sources"
   ]
  },
  {
   "cell_type": "markdown",
   "id": "bce2d2e3-9d1e-4283-adea-e7beea277073",
   "metadata": {},
   "source": [
    "During development we reload our libraries as we extend them, thus our liberal application of `importlib.reload(...)`.\n",
    "\n",
    "We shall repeatedly import libraries to demostrate context, however only when reload is called can side-effects be introduced for the user/developer. \n",
    "\n",
    "$\\square$"
   ]
  },
  {
   "cell_type": "markdown",
   "id": "858bfa95-3edc-44ed-8b24-cd70e6c61701",
   "metadata": {},
   "source": [
    "## 3) Exercise"
   ]
  },
  {
   "cell_type": "markdown",
   "id": "fcbddc57-3d3e-4627-8996-57a39ed23b4a",
   "metadata": {},
   "source": [
    "### **3a) Taylor Series Approximation**\n",
    "\n",
    ">Consider the function $f(x) = \\sqrt{1 + x}$ in the range zero to four. Derive the 1st and 2nd order Taylor approximation of $f(x)$ at $x_0 = 0$ and **plot the exact function in the same graph together with both approximations**. Add legends for all three graphs and don't forget axis labels!<br> Estimate $\\sqrt{1.5}$, $\\sqrt{2}$ and $\\sqrt{3}$ from both approximations and compare the values to the exact values (create a small table using a **dataframe**). "
   ]
  },
  {
   "cell_type": "markdown",
   "id": "470fac1a-0cdd-467e-8277-b2f0ba82a80a",
   "metadata": {},
   "source": [
    "**Clarification of \"Range\"**\n",
    "\n",
    "In casual usage, the word *range* often refers to input values. For example, someone might say \"range zero to four\" when describing a span of values. This supports an informal interpretation, where range loosely means the interval being considered.\n",
    "\n",
    "In formal mathematics however, *range* refers to the set of output values a function can produce. The corresponding term for input values is *domain*.\n",
    "\n",
    "Initially, we assumed the colloquial meaning was intended and defined a \"colloquial domain\" as $x \\in [0, 4]$. We now adopt a more rigorous interpretation, defining the domain as $x \\in [-1, 15]$. This choice reflects the input values that yield outputs in the range $[0, 4]$, since $\\sqrt{1-1} = 0$ and $\\sqrt{1+15} = 4$.\n",
    "\n",
    "The implied meaning of range has a significant impact on how the problem is framed. We chose to proceed with the mathematically rigorous definition, but we acknowledge that our interpretation of a specification can fundamentally influence its implementation."
   ]
  },
  {
   "cell_type": "code",
   "execution_count": 3,
   "id": "4de5763e-a540-4cd6-ad1a-89f9388c80e4",
   "metadata": {},
   "outputs": [
    {
     "name": "stdout",
     "output_type": "stream",
     "text": [
      "Range: <Limits: lower=0, upper=4>\n",
      "Domain: <Limits: lower=-1, upper=15>\n"
     ]
    }
   ],
   "source": [
    "importlib.reload(taylor)\n",
    "\n",
    "# Our 'domain' and 'range', strictly in the formal mathmatical sense\n",
    "print(f'Range: {taylor.func_range}')\n",
    "print(f'Domain: {taylor.func_domain}')"
   ]
  },
  {
   "cell_type": "markdown",
   "id": "96f02a52-17a6-4741-95b3-6f22c920b2ef",
   "metadata": {},
   "source": [
    "Hence the range and domain of our function becomes well defined.\n",
    "\n",
    "$\\square$"
   ]
  },
  {
   "cell_type": "markdown",
   "id": "b3586652-0f2f-40a5-b38d-9e9b71af0254",
   "metadata": {},
   "source": [
    "##### **Derivation**"
   ]
  },
  {
   "cell_type": "markdown",
   "id": "c2921606-794e-46e9-a47e-795a92423511",
   "metadata": {},
   "source": [
    "Recall:\n",
    "<br>\n",
    "$$\n",
    "\\begin{aligned}\n",
    " f(x) &= \\sum_{n=0}^{\\infty}\\frac{1}{n!}\\frac{d^n f(x)}{dx^n}|_{x=x_0}\\left(x - x_0\\right)^n\\\\\n",
    "      &= f(x_0) + \\frac{f'(x_0)}{1!} x + \\frac{f''(x_0)}{2!}x^2 + \\cdots\n",
    "\\end{aligned}\n",
    "$$\n",
    "<br>"
   ]
  },
  {
   "cell_type": "markdown",
   "id": "b6b1fa58-1c37-4ebe-ac7f-286d504b21dd",
   "metadata": {},
   "source": [
    "<br> Now lets consider,\n",
    "$$\n",
    "\\begin{aligned}\n",
    "f(x) &= \\sqrt{1 + x} \\\\\n",
    " &= (1+x)^{1/2}.\n",
    "\\end{aligned}\n",
    "$$\n",
    "\n",
    "Thus, by the power rule, our 1st derivative is,\n",
    "$$\n",
    "\\begin{aligned}\n",
    "f'(x) &= \\frac{1}{2} (1 + x)^{-1/2}.\n",
    "\\end{aligned}\n",
    "$$\n",
    "\n",
    "\n",
    "Applied the power rule again we find our 2nd derivative is,\n",
    "$$\n",
    "\\begin{aligned}\n",
    "f''(x) &= -\\frac{1}{4} (1 + x)^{-3/2}.\n",
    "\\end{aligned}\n",
    "$$"
   ]
  },
  {
   "cell_type": "markdown",
   "id": "01fed93d-53dc-4df1-a221-c213836bb337",
   "metadata": {},
   "source": [
    "Now let's put this all together for a 2nd order Taylor approximation of $f(x)$ at $x_0 = 0$.\n",
    "$$\n",
    "\\begin{aligned}\n",
    " f(x) \n",
    " &= f(x_0) + \\frac{f'(x_0)}{1!}x + \\frac{f''(x_0)}{2!}x^2\\\\\n",
    " &= (1+{x_0})^{1/2} + \\frac{1}{1!} \\left( \\frac{1}{2} (1 + {x_0})^{-1/2} \\right) x + \\frac{1}{2!} \\left( -\\frac{1}{4} (1 + {x_0})^{-3/2} \\right) x^2 \\\\\n",
    "  &= (1)^{1/2} + \\frac{1}{1!} \\left( \\frac{1}{2} (1)^{-1/2} \\right) x + \\frac{1}{2!} \\left( -\\frac{1}{4} (1)^{-3/2} \\right) x^2 \\\\\n",
    "  &= \\underbrace{\\underbrace{1 + \\frac{1}{2} x}_{\\text{1st}} - \\frac{1}{8} x^2}_{\\text{2nd}}.\n",
    "\\end{aligned}\n",
    "$$\n",
    "Notice that by deriving the 2nd order Taylor approximation we also have the 1st order approximation by taking only the first order terms and dropping the higher order terms.\n",
    "\n",
    "This wraps up our derivation.\n",
    "\n",
    "$\\square$"
   ]
  },
  {
   "cell_type": "markdown",
   "id": "000d1e6e-6107-4651-92f8-fbcd9b412e9a",
   "metadata": {},
   "source": [
    "Before we move on, let's check our work using sympy."
   ]
  },
  {
   "cell_type": "code",
   "execution_count": 4,
   "id": "8c4842a2-f386-4b84-b4e1-84aae02a403a",
   "metadata": {},
   "outputs": [
    {
     "name": "stdout",
     "output_type": "stream",
     "text": [
      "class TaylorExpansion:\n",
      "    def __init__(self):\n",
      "        # Symbols\n",
      "        self.x = sym.Symbol(\"x\")\n",
      "        self.x_0 = sym.Symbol(\"x_0\")\n",
      "\n",
      "        # Function\n",
      "        self.f = sym.sqrt(1 + self.x)\n",
      "\n",
      "        # Derivatives\n",
      "        self.f_prime = sym.diff(self.f, self.x)\n",
      "        self.f_double_prime = sym.diff(self.f_prime, self.x)\n",
      "\n",
      "        # Evaluated at x_0\n",
      "        self.f0 = self.f.subs(self.x, self.x_0)\n",
      "        self.f1 = self.f_prime.subs(self.x, self.x_0)\n",
      "        self.f2 = self.f_double_prime.subs(self.x, self.x_0)\n",
      "\n",
      "        # Taylor expansion\n",
      "        self.f_taylor = (\n",
      "            self.f0 + self.f1 * self.x + (self.f2 / sym.factorial(2)) * self.x**2\n",
      "        )\n",
      "        self.f_taylor_at_0 = self.f_taylor.subs(self.x_0, 0)\n",
      "\n",
      "    def show_derivatives(self):\n",
      "        display(sym.Eq(sym.Function(\"f\")(self.x), self.f))\n",
      "        display(sym.Eq(sym.Function(\"f'\")(self.x), self.f_prime))\n",
      "        display(sym.Eq(sym.Function(\"f''\")(self.x), self.f_double_prime))\n",
      "\n",
      "    def show_derivation(self):\n",
      "        display(sym.Eq(sym.Function(\"f_{taylor}\")(self.x), self.f_taylor))\n",
      "        display(sym.Eq(sym.Function(\"f_{taylor}\")(0), self.f_taylor_at_0))\n",
      "        display(Markdown(\"\"))\n",
      "\n",
      "    def __repr__(self):\n",
      "        return f\"<TaylorExpansion: f(x) = sqrt(1 + x), centered at x_0>\"\n",
      "\n"
     ]
    }
   ],
   "source": [
    "importlib.reload(taylor)\n",
    "import inspect\n",
    "\n",
    "print(inspect.getsource(taylor.TaylorExpansion))"
   ]
  },
  {
   "cell_type": "code",
   "execution_count": 5,
   "id": "e3a1c4bc-ebcf-4293-98f7-a3703041dcbd",
   "metadata": {},
   "outputs": [
    {
     "data": {
      "text/plain": [
       "<TaylorExpansion: f(x) = sqrt(1 + x), centered at x_0>"
      ]
     },
     "execution_count": 5,
     "metadata": {},
     "output_type": "execute_result"
    }
   ],
   "source": [
    "expansion = taylor.TaylorExpansion()\n",
    "expansion"
   ]
  },
  {
   "cell_type": "code",
   "execution_count": 6,
   "id": "e6c447e2-c95f-47a5-a518-608a1997011f",
   "metadata": {},
   "outputs": [
    {
     "data": {
      "image/png": "[encoded data removed]",
      "text/latex": [
       "$\\displaystyle f{\\left(x \\right)} = \\sqrt{x + 1}$"
      ],
      "text/plain": [
       "         _______\n",
       "f(x) = ╲╱ x + 1 "
      ]
     },
     "metadata": {},
     "output_type": "display_data"
    },
    {
     "data": {
      "image/png": "[encoded data removed]",
      "text/latex": [
       "$\\displaystyle \\operatorname{f'}{\\left(x \\right)} = \\frac{1}{2 \\sqrt{x + 1}}$"
      ],
      "text/plain": [
       "             1     \n",
       "f'(x) = ───────────\n",
       "            _______\n",
       "        2⋅╲╱ x + 1 "
      ]
     },
     "metadata": {},
     "output_type": "display_data"
    },
    {
     "data": {
      "image/png": "[encoded data removed]",
      "text/latex": [
       "$\\displaystyle \\operatorname{f''}{\\left(x \\right)} = - \\frac{1}{4 \\left(x + 1\\right)^{\\frac{3}{2}}}$"
      ],
      "text/plain": [
       "             -1      \n",
       "f''(x) = ────────────\n",
       "                  3/2\n",
       "         4⋅(x + 1)   "
      ]
     },
     "metadata": {},
     "output_type": "display_data"
    }
   ],
   "source": [
    "expansion.show_derivatives()"
   ]
  },
  {
   "cell_type": "code",
   "execution_count": 7,
   "id": "fe56ecda-2c92-4fb1-87fa-b61fc0c957db",
   "metadata": {},
   "outputs": [
    {
     "data": {
      "image/png": "[encoded data removed]",
      "text/latex": [
       "$\\displaystyle f_{taylor}{\\left(x \\right)} = - \\frac{x^{2}}{8 \\left(x_{0} + 1\\right)^{\\frac{3}{2}}} + \\frac{x}{2 \\sqrt{x_{0} + 1}} + \\sqrt{x_{0} + 1}$"
      ],
      "text/plain": [
       "                        2                                  \n",
       "                       x               x           ________\n",
       "f_{taylor}(x) = - ───────────── + ──────────── + ╲╱ x₀ + 1 \n",
       "                            3/2       ________             \n",
       "                  8⋅(x₀ + 1)      2⋅╲╱ x₀ + 1              "
      ]
     },
     "metadata": {},
     "output_type": "display_data"
    },
    {
     "data": {
      "image/png": "[encoded data removed]",
      "text/latex": [
       "$\\displaystyle f_{taylor}{\\left(0 \\right)} = - \\frac{x^{2}}{8} + \\frac{x}{2} + 1$"
      ],
      "text/plain": [
       "                   2        \n",
       "                  x    x    \n",
       "f_{taylor}(0) = - ── + ─ + 1\n",
       "                  8    2    "
      ]
     },
     "metadata": {},
     "output_type": "display_data"
    },
    {
     "data": {
      "text/markdown": [],
      "text/plain": [
       "<IPython.core.display.Markdown object>"
      ]
     },
     "metadata": {},
     "output_type": "display_data"
    }
   ],
   "source": [
    "expansion.show_derivation()"
   ]
  },
  {
   "cell_type": "markdown",
   "id": "475133e8-7ada-47af-8b84-b65e37c8db05",
   "metadata": {},
   "source": [
    "This confirms what we found above so let's continue on to plotting our functions.\n",
    "\n",
    "$\\square$"
   ]
  },
  {
   "cell_type": "markdown",
   "id": "176ad6f8-5cda-4aea-bbaa-8205a7907615",
   "metadata": {},
   "source": [
    "##### **Plot Our Function (Using SymPy)**\n",
    "\n",
    "For a log-log plot, see: **Plot Our Function (Using Matplotlib)** below."
   ]
  },
  {
   "cell_type": "code",
   "execution_count": 8,
   "id": "8b7e0425-58fe-4812-a396-1e2cd7909b41",
   "metadata": {},
   "outputs": [
    {
     "data": {
      "image/png": "[encoded data removed]",
      "text/plain": [
       "<Figure size 640x480 with 1 Axes>"
      ]
     },
     "metadata": {},
     "output_type": "display_data"
    },
    {
     "name": "stdout",
     "output_type": "stream",
     "text": [
      "<TaylorPlot: domain=<Limits: lower=-1, upper=15>>\n"
     ]
    }
   ],
   "source": [
    "importlib.reload(taylor)\n",
    "import inspect\n",
    "\n",
    "plotter = taylor.TaylorSymPlot()\n",
    "plotter.plot()\n",
    "print(plotter)\n",
    "# print(inspect.getsource(taylor.TaylorSymPlot)) # uncomment if you'd like to see the source"
   ]
  },
  {
   "cell_type": "markdown",
   "id": "340cdce3-d3a1-46c9-a5c7-f1851f99337d",
   "metadata": {},
   "source": [
    "Clearly the error for both approximation grows large as we move from the evaluation point, $x_0=0$.\n",
    "Indeed our 2nd order approximation goes below zero, which is a not good repesentation our orginal monotonic function, $\\sqrt{x+1}$ at all.\n",
    "\n",
    "However, we're not done yet!\n",
    "\n",
    "Let's try this again using matplotlib numerically for a loglog plotting.  Maybe we can see more clearly what's going on here.\n",
    "\n",
    "$\\square$"
   ]
  },
  {
   "cell_type": "markdown",
   "id": "cae763de-0a8b-4ebc-ac52-ffb4b01c07b2",
   "metadata": {},
   "source": [
    "##### **Plot our functions (using matplotlib)**\n",
    "\n",
    "In actuality logarithmic scales are undefined for non-positive values, however unlike sympy.plot, matplotlib will not complain it.\n",
    "\n",
    "However, while it doesn't complain, it also doesn't plot these values either.\n",
    "\n",
    "Nonetheless this provides us some important insight into our 2nd order approximaton when it starts to go quite astomptopically wrong."
   ]
  },
  {
   "cell_type": "code",
   "execution_count": 9,
   "id": "df44f746-5ca1-43e3-929a-beee31592c05",
   "metadata": {},
   "outputs": [
    {
     "data": {
      "image/png": "[encoded data removed]",
      "text/plain": [
       "<Figure size 1000x600 with 1 Axes>"
      ]
     },
     "metadata": {},
     "output_type": "display_data"
    },
    {
     "name": "stdout",
     "output_type": "stream",
     "text": [
      "<TaylorNumericPlot: domain=<Limits: lower=-1, upper=15>>\n"
     ]
    }
   ],
   "source": [
    "importlib.reload(taylor)\n",
    "import inspect\n",
    "\n",
    "plotter = taylor.TaylorNumericPlot()\n",
    "plotter.plot()\n",
    "print(plotter)\n",
    "# print(inspect.getsource(taylor.TaylorNumericPlot)) # uncomment if you'd like to see the source"
   ]
  },
  {
   "cell_type": "markdown",
   "id": "3d53733c-9ed7-4b3d-90c9-1840f6bcef99",
   "metadata": {},
   "source": [
    "What a beauty!\n",
    "\n",
    "It now becomes clear that the range provided in the problem statement, and our rigorous mathematical interpretation of it, makes sense in this context.\n",
    "\n",
    "Both the linear and log plots show that the error between our original function, $\\sqrt{x+1}$, and its approximations grow significantly as we move further from the evaluation point.\n",
    "\n",
    "In fact, once the second-order approximation dips below zero, it becomes a very poor representation of our original monotonic function, $\\sqrt{x+1}$, and thus is effectively useless beyond that point.\n",
    "\n",
    "That's about it for our plotting.  Let's move on to creating our dataframe.\n",
    "\n",
    "See also: *Error Analysis* section below.\n",
    "\n",
    "$\\square$ $\\square$"
   ]
  },
  {
   "cell_type": "markdown",
   "id": "9ee72571-e350-426e-8f11-bbd60285d9b8",
   "metadata": {},
   "source": [
    "##### **Create a dataframe**"
   ]
  },
  {
   "cell_type": "markdown",
   "id": "38b43ef7-a0ba-42aa-8a16-9d99a991727c",
   "metadata": {},
   "source": [
    "Now we move one to building a dataframe.\n",
    "We are being asked to estimate $\\sqrt{1.5}$, $\\sqrt{2}$ and $\\sqrt{3}$ from both approximations, however our function is $f(x) = \\sqrt{1+x}$ so we must subtract 1 to estimate these values using our approximation.\n",
    "\n",
    "Right?\n",
    "Let's try not to think about this too much and trust the process.  ;-)"
   ]
  },
  {
   "cell_type": "code",
   "execution_count": 10,
   "id": "0ebf4346-78e2-4e63-8925-6025d591c1b9",
   "metadata": {},
   "outputs": [
    {
     "data": {
      "text/html": [
       "<div>\n",
       "<style scoped>\n",
       "    .dataframe tbody tr th:only-of-type {\n",
       "        vertical-align: middle;\n",
       "    }\n",
       "\n",
       "    .dataframe tbody tr th {\n",
       "        vertical-align: top;\n",
       "    }\n",
       "\n",
       "    .dataframe thead th {\n",
       "        text-align: right;\n",
       "    }\n",
       "</style>\n",
       "<table border=\"1\" class=\"dataframe\">\n",
       "  <thead>\n",
       "    <tr style=\"text-align: right;\">\n",
       "      <th></th>\n",
       "      <th>x</th>\n",
       "      <th>y_true</th>\n",
       "      <th>y_t1</th>\n",
       "      <th>y_t2</th>\n",
       "    </tr>\n",
       "  </thead>\n",
       "  <tbody>\n",
       "    <tr>\n",
       "      <th>test 1</th>\n",
       "      <td>0.5</td>\n",
       "      <td>1.224745</td>\n",
       "      <td>1.25</td>\n",
       "      <td>1.21875</td>\n",
       "    </tr>\n",
       "    <tr>\n",
       "      <th>test 2</th>\n",
       "      <td>1.0</td>\n",
       "      <td>1.414214</td>\n",
       "      <td>1.50</td>\n",
       "      <td>1.37500</td>\n",
       "    </tr>\n",
       "    <tr>\n",
       "      <th>test 3</th>\n",
       "      <td>2.0</td>\n",
       "      <td>1.732051</td>\n",
       "      <td>2.00</td>\n",
       "      <td>1.50000</td>\n",
       "    </tr>\n",
       "  </tbody>\n",
       "</table>\n",
       "</div>"
      ],
      "text/plain": [
       "          x    y_true  y_t1     y_t2\n",
       "test 1  0.5  1.224745  1.25  1.21875\n",
       "test 2  1.0  1.414214  1.50  1.37500\n",
       "test 3  2.0  1.732051  2.00  1.50000"
      ]
     },
     "metadata": {},
     "output_type": "display_data"
    }
   ],
   "source": [
    "import inspect\n",
    "importlib.reload(taylor)\n",
    "\n",
    "table = taylor.TaylorTable()\n",
    "table.show()\n",
    "#print(inspect.getsource(taylor.TaylorTable)) # uncomment if you'd like to see the source"
   ]
  },
  {
   "cell_type": "markdown",
   "id": "df005815-a1e8-4e44-a75e-130a5c402c79",
   "metadata": {},
   "source": [
    "Our objective here was to estimate $ \\sqrt{1.5} $, $ \\sqrt{2} $, and $ \\sqrt{3} $ using both 1st and 2nd order Taylor approximations of the function $ f(x) = \\sqrt{1 + x} $.  \n",
    "Since our approximation is centered at $ x_0 = 0 $, we adjusted the inputs accordingly by subtracting 1 from each target value.\n",
    "\n",
    "We then built a dataframe to organize and compare the exact values with our approximations.  \n",
    "The indexing and column labels were chosen to reflect the structure of our experiment clearly.\n",
    "\n",
    "As expected, the error increases as we move further from the evaluation point.  \n",
    "The 2nd order approximation performs better than the 1st order near $ x_0$, however eventually diverges, especially for larger $ x $.  \n",
    "This behavior aligns with what we've seen in our earlier linear plots.\n",
    "\n",
    "$\\square$"
   ]
  },
  {
   "cell_type": "markdown",
   "id": "801202bf-fd80-4e8b-af73-631d841aa3df",
   "metadata": {},
   "source": [
    "##### **Error Analysis**\n",
    "\n",
    "To compare our approximated values to the exact values we shall use a bit of Error Analysis, adding columns for Absolute and Relative error, then plotting the results."
   ]
  },
  {
   "cell_type": "code",
   "execution_count": 11,
   "id": "aa08228a-adc1-480e-ab85-a958dd1a5892",
   "metadata": {},
   "outputs": [
    {
     "data": {
      "image/png": "[encoded data removed]",
      "text/plain": [
       "<Figure size 1200x500 with 2 Axes>"
      ]
     },
     "metadata": {},
     "output_type": "display_data"
    },
    {
     "data": {
      "text/html": [
       "<div>\n",
       "<style scoped>\n",
       "    .dataframe tbody tr th:only-of-type {\n",
       "        vertical-align: middle;\n",
       "    }\n",
       "\n",
       "    .dataframe tbody tr th {\n",
       "        vertical-align: top;\n",
       "    }\n",
       "\n",
       "    .dataframe thead th {\n",
       "        text-align: right;\n",
       "    }\n",
       "</style>\n",
       "<table border=\"1\" class=\"dataframe\">\n",
       "  <thead>\n",
       "    <tr style=\"text-align: right;\">\n",
       "      <th></th>\n",
       "      <th>x</th>\n",
       "      <th>y_true</th>\n",
       "      <th>y_t1</th>\n",
       "      <th>y_t2</th>\n",
       "      <th>absolute_error_t1</th>\n",
       "      <th>absolute_error_t2</th>\n",
       "      <th>relative_error_t1</th>\n",
       "      <th>relative_error_t2</th>\n",
       "    </tr>\n",
       "  </thead>\n",
       "  <tbody>\n",
       "    <tr>\n",
       "      <th>test 1</th>\n",
       "      <td>0.5</td>\n",
       "      <td>1.224745</td>\n",
       "      <td>1.25</td>\n",
       "      <td>1.21875</td>\n",
       "      <td>0.025255</td>\n",
       "      <td>0.005995</td>\n",
       "      <td>0.020621</td>\n",
       "      <td>0.004895</td>\n",
       "    </tr>\n",
       "    <tr>\n",
       "      <th>test 2</th>\n",
       "      <td>1.0</td>\n",
       "      <td>1.414214</td>\n",
       "      <td>1.50</td>\n",
       "      <td>1.37500</td>\n",
       "      <td>0.085786</td>\n",
       "      <td>0.039214</td>\n",
       "      <td>0.060660</td>\n",
       "      <td>0.027728</td>\n",
       "    </tr>\n",
       "    <tr>\n",
       "      <th>test 3</th>\n",
       "      <td>2.0</td>\n",
       "      <td>1.732051</td>\n",
       "      <td>2.00</td>\n",
       "      <td>1.50000</td>\n",
       "      <td>0.267949</td>\n",
       "      <td>0.232051</td>\n",
       "      <td>0.154701</td>\n",
       "      <td>0.133975</td>\n",
       "    </tr>\n",
       "  </tbody>\n",
       "</table>\n",
       "</div>"
      ],
      "text/plain": [
       "          x    y_true  y_t1     y_t2  absolute_error_t1  absolute_error_t2  \\\n",
       "test 1  0.5  1.224745  1.25  1.21875           0.025255           0.005995   \n",
       "test 2  1.0  1.414214  1.50  1.37500           0.085786           0.039214   \n",
       "test 3  2.0  1.732051  2.00  1.50000           0.267949           0.232051   \n",
       "\n",
       "        relative_error_t1  relative_error_t2  \n",
       "test 1           0.020621           0.004895  \n",
       "test 2           0.060660           0.027728  \n",
       "test 3           0.154701           0.133975  "
      ]
     },
     "metadata": {},
     "output_type": "display_data"
    }
   ],
   "source": [
    "table.plot_errors()\n",
    "table.show()"
   ]
  },
  {
   "cell_type": "markdown",
   "id": "69de2345-1f5f-4920-913d-34367bdfcae0",
   "metadata": {},
   "source": [
    "At least for our values under test, both our 1st and 2nd order approximations have an average error of less than 10%.\n",
    "Indeed our 2nd order has less error than the 1st order approximation over our domain.\n",
    "\n",
    "Above this domain it's a much different story but for now let's revial in the fact we are within an order of maginitude.\n",
    "\n",
    "_\"Close don't count in baseball. Close only counts in horseshoes and hand grenades\" --Frank Robinson_\n",
    "\n",
    "$\\square$ $\\square$"
   ]
  },
  {
   "cell_type": "markdown",
   "id": "84d89938-45b6-43f9-8210-27682d510b4c",
   "metadata": {},
   "source": [
    "### **3b) Palindrome Python Class**\n",
    "Create a **class** *Palindrome_Checker*, that takes a string in its `__init__`. The class then should contain **three methods** of checking if a string is a palindrome: via a loop (use the `break` statement in order to make the code most efficient), via recursion and via the fastest way, which is `My_StringS[::-1]`. In each case the method should return a statement if the input string is a palindrome or not. "
   ]
  },
  {
   "cell_type": "markdown",
   "id": "9e0d23d8-4ced-40d8-a761-6e737dc6ed57",
   "metadata": {},
   "source": [
    "##### **Create a Palindrome Checker Class**\n",
    "\n",
    "In the end, we created not **three** but **eleven** different method for checking if a string is a palindrome; 'map', 'break_loop', 'loop', 'recursive', 'pythonic', 'memoryview', 'numba', 'torch', 'jax', 'triton', 'numpy'.\n",
    "We encapsulate our methods with these mode flags to allow us to quickly benchmark and compare our results along the way.\n",
    "\n",
    "The three basic modes are 'break_loop'*, 'recursive', 'pythonic'.  \n",
    "\n",
    "We then extended these basic methods further with custom CPU and GPU kernels.\n",
    "\n",
    "See: **Results and Conclusion** section below for the results of our performance testing.\n",
    "\n",
    "Grab your coffee and let's get stuck-in!"
   ]
  },
  {
   "cell_type": "markdown",
   "id": "50eae1c1-a769-4b48-bc5d-1af4573ba2fa",
   "metadata": {},
   "source": [
    "**Install Additional Libraries**\n",
    "\n",
    "One of our motivations is to create something that resembles 'production-ready' code.\n",
    "While we started out with a rather vannilla code base, we continued to develop as many methods as possible.\n",
    "We eventually developed a KernelRegistry library to detect if the required hardware and packages are present, before loading our kernels.  We wanted to fail safe if these were not not present.\n",
    "\n",
    "We acknowlegde that this is complete overkill, however once we started we couldn't help ourselves."
   ]
  },
  {
   "cell_type": "code",
   "execution_count": 12,
   "id": "be17d82a-8340-41dd-a2f7-13de79b46470",
   "metadata": {},
   "outputs": [],
   "source": [
    "# Make sure these are installed if your using DataHub\n",
    "#!pip install numba\n",
    "#!pip install torch\n",
    "#!pip install jax # JAX requires a GPU (not tested on DataHud"
   ]
  },
  {
   "cell_type": "markdown",
   "id": "f1e93e1d-6277-4e6a-9d08-6d33120fd1a8",
   "metadata": {},
   "source": [
    "We've created a Docker image to simplify these requirements, it's usage is outside the scope of this exercise.\n",
    "\n",
    "See our github for the details:\n",
    "\n",
    "https://github.com/fractalclockwork/Chem277B\n",
    "\n",
    "$\\square$"
   ]
  },
  {
   "cell_type": "markdown",
   "id": "59800399-a211-4908-b476-dd4f96f2e0ff",
   "metadata": {},
   "source": [
    "**Create Palindrome_Checker**\n",
    "\n",
    "We now define our core Python class.\n",
    "\n",
    "This implementation performs strict type checking and asserts on invalid input types or unsupported modes. Its modular design allowed us to quickly experiment with a wide variety of palindrome-checking algorithms. Docstrings are included throughout to provide clear guidance on class behavior and member functions."
   ]
  },
  {
   "cell_type": "code",
   "execution_count": 13,
   "id": "58e57744-2c5f-4376-a86e-9dfc28e1b0e3",
   "metadata": {},
   "outputs": [
    {
     "name": "stdout",
     "output_type": "stream",
     "text": [
      "Mode 'pythonic': Palindrome\n",
      "Mode 'break_loop': Palindrome\n",
      "Mode 'recursive': Palindrome\n",
      "Mode 'pythonic': Not a palindrome\n",
      "Mode 'break_loop': Not a palindrome\n",
      "Mode 'recursive': Not a palindrome\n"
     ]
    }
   ],
   "source": [
    "import palindrome as palindrome\n",
    "import importlib\n",
    "\n",
    "importlib.reload(palindrome)\n",
    "\n",
    "pc = palindrome.Palindrome_Checker(\"racecar\")\n",
    "print(pc.run_mode(\"pythonic\"))\n",
    "print(pc.run_mode(\"break_loop\"))\n",
    "print(pc.run_mode(\"recursive\"))\n",
    "\n",
    "pc.input_str = \"crash\"\n",
    "print(pc.run_mode(\"pythonic\"))\n",
    "print(pc.run_mode(\"break_loop\"))\n",
    "print(pc.run_mode(\"recursive\"))"
   ]
  },
  {
   "cell_type": "markdown",
   "id": "d7e37957-7fbb-49d2-8679-6df276907fa5",
   "metadata": {},
   "source": [
    "Let's take a peek at one our algorithms."
   ]
  },
  {
   "cell_type": "code",
   "execution_count": 14,
   "id": "7b723192-15b8-4857-9dee-5dc96f874033",
   "metadata": {},
   "outputs": [
    {
     "name": "stdout",
     "output_type": "stream",
     "text": [
      "    def pythonic_test(self) -> bool:\n",
      "        \"\"\"Check palindrome using string reversal.\"\"\"\n",
      "        return self.input_str == self.input_str[::-1]\n",
      "\n"
     ]
    }
   ],
   "source": [
    "import inspect\n",
    "\n",
    "print(inspect.getsource(palindrome.Palindrome_Checker.pythonic_test))"
   ]
  },
  {
   "cell_type": "markdown",
   "id": "810d756a-6cb6-43e3-81b3-42c46949d692",
   "metadata": {},
   "source": [
    "We made docstrings too."
   ]
  },
  {
   "cell_type": "code",
   "execution_count": 15,
   "id": "a2373f08-6cf9-431a-9cf3-999a39774adb",
   "metadata": {},
   "outputs": [
    {
     "name": "stdout",
     "output_type": "stream",
     "text": [
      "Help on class Palindrome_Checker in module palindrome:\n",
      "\n",
      "class Palindrome_Checker(builtins.object)\n",
      " |  Palindrome_Checker(input_str, mode='loop')\n",
      " |\n",
      " |  A utility class for checking whether a string is a palindrome using various methods.\n",
      " |\n",
      " |  Parameters\n",
      " |  ----------\n",
      " |  input_str : str\n",
      " |      The string to be tested.\n",
      " |\n",
      " |   mode : str, optional\n",
      " |      The method used for palindrome checking. Options include:\n",
      " |      'loop', 'break_loop', 'pythonic', 'map', 'memoryview', 'numba',\n",
      " |      'numpy', 'recursive', 'torch', 'triton', 'jax'.\n",
      " |      Default is 'loop'.\n",
      " |\n",
      " |  Methods defined here:\n",
      " |\n",
      " |  __init__(self, input_str, mode='loop')\n",
      " |      Initialize with input string and test mode.\n",
      " |\n",
      " |  available(self)\n",
      " |      Return all supported modes as a list.\n",
      " |\n",
      " |  break_loop_test(self) -> bool\n",
      " |      Check palindrome using loop and break statement.\n",
      " |\n",
      " |  is_palindrome(self)\n",
      " |      Dispatch to selected method.\n",
      " |\n",
      " |  loop_test(self) -> bool\n",
      " |      Check palindrome using direct indexing and early return.\n",
      " |\n",
      " |  map_test(self) -> bool\n",
      " |      Check palindrome using map and zip for character comparison.\n",
      " |\n",
      " |  memoryview_test(self) -> bool\n",
      " |      Check palindrome using memoryview for byte-level comparison.\n",
      " |\n",
      " |  numpy_test(self) -> bool\n",
      " |      Check palindrome using NumPy array and slicing.\n",
      " |\n",
      " |  pythonic_test(self) -> bool\n",
      " |      Check palindrome using string reversal.\n",
      " |\n",
      " |  recursive_test(self, sub_str, left=0, right=None) -> bool\n",
      " |      Check palindrome recursively using index comparison.\n",
      " |\n",
      " |  run_mode(self, mode)\n",
      " |      Set mode and return a statement about palindrome status.\n",
      " |\n",
      " |  ----------------------------------------------------------------------\n",
      " |  Data descriptors defined here:\n",
      " |\n",
      " |  __dict__\n",
      " |      dictionary for instance variables\n",
      " |\n",
      " |  __weakref__\n",
      " |      list of weak references to the object\n",
      "\n"
     ]
    }
   ],
   "source": [
    "# usage\n",
    "help(palindrome.Palindrome_Checker)"
   ]
  },
  {
   "cell_type": "markdown",
   "id": "ff145870-aa6e-4cfd-a54d-f0ceab22f064",
   "metadata": {},
   "source": [
    "Check out the source files if you want to see the bloody details.\n",
    "\n",
    "`palindrome.py` covers the main implementation."
   ]
  },
  {
   "cell_type": "code",
   "execution_count": 16,
   "id": "f448bba0-c775-464c-8dc3-7f26ee058cdf",
   "metadata": {},
   "outputs": [],
   "source": [
    "import inspect\n",
    "\n",
    "# uncomment if you'd like to see the source (or go look at the source files)\n",
    "#print(inspect.getsource(palindrome.Palindrome_Checker))"
   ]
  },
  {
   "cell_type": "markdown",
   "id": "bc79fa84-f916-4df0-87d1-d0bbb7f24d3c",
   "metadata": {},
   "source": [
    "These examples show the core requirements of our Class, three distinct methods for checking whether a string is a palindrome, each returning a statement.\n",
    "\n",
    "But why stop here?\n",
    "\n",
    "We've cooked up a whole suite of algorithms as custom kernels.  Let's take a quick look at that now.\n",
    "\n",
    "\n",
    "$\\square$"
   ]
  },
  {
   "cell_type": "markdown",
   "id": "2178a85c-0404-426f-89e3-c7288aaa005b",
   "metadata": {},
   "source": [
    "**Define Our Custom Kernels**\n",
    "\n",
    "We created custom 'kernels' for Numba, PyTorch, Triton, and JAX.  Some of these like Numba run on the host CPU, others like PyTorch and Jax can run on either the CPU or GPU, and Trition requires GPU hardware.\n",
    "\n",
    "These kernels grew from our profiling results of our intital palindrome methods and the gpu-mode lecture series.\n",
    "\n",
    "Don't worry if some of this doesn't make sense yet.  I spent my whole Summer doing this so we are kernel mad now.\n",
    "\n",
    "For now let's look at the Numba kernel as this was our first attempt at a custom JIT kernel.\n",
    "\n",
    "See: `kernel_registry.py` for how we've created plugins that extend our Palindrome_Checker Class."
   ]
  },
  {
   "cell_type": "code",
   "execution_count": 17,
   "id": "bc272f71-d496-416b-945a-6a083968eac7",
   "metadata": {},
   "outputs": [
    {
     "name": "stdout",
     "output_type": "stream",
     "text": [
      "    def _numba_kernel(self, njit):\n",
      "        \"\"\"Numba-based kernel.\"\"\"\n",
      "\n",
      "        @njit\n",
      "        def numba_palindrome(arr):\n",
      "            left, right = 0, len(arr) - 1\n",
      "            while left < right:\n",
      "                if arr[left] != arr[right]:\n",
      "                    return False\n",
      "                left += 1\n",
      "                right -= 1\n",
      "            return True\n",
      "\n",
      "        def wrapper(s):\n",
      "            arr = np.frombuffer(s.encode(\"utf-8\"), dtype=np.uint8)\n",
      "            return numba_palindrome(arr)\n",
      "\n",
      "        return wrapper\n",
      "\n"
     ]
    }
   ],
   "source": [
    "import inspect\n",
    "\n",
    "print(inspect.getsource(palindrome.KernelRegistry._numba_kernel))"
   ]
  },
  {
   "cell_type": "markdown",
   "id": "191776f5-81bb-4f6c-aa69-78b7ce015308",
   "metadata": {},
   "source": [
    "See: The **Profiling** section below for more details on cProfile.\n",
    "\n",
    "$\\square$"
   ]
  },
  {
   "cell_type": "markdown",
   "id": "7f44398f-cd87-42b7-98d6-fdb0e7e60767",
   "metadata": {},
   "source": [
    "##### **Sanity Check**  (as if there as any doubt)\n",
    "\n",
    "Before we kick off the death match, let’s confirm the health of our contenders.\n",
    "\n",
    "Each algorithm must pass a basic validation suite: positive cases, negative cases, and a few naughty edge cases, before entering the ring.\n",
    "\n",
    "Only the strong shall survive!!!"
   ]
  },
  {
   "cell_type": "code",
   "execution_count": 18,
   "id": "7dbd63a2-06da-47ca-8d90-ddd6310e18db",
   "metadata": {
    "scrolled": true
   },
   "outputs": [
    {
     "name": "stdout",
     "output_type": "stream",
     "text": [
      "mode under test: ['loop', 'break_loop', 'pythonic', 'map', 'memoryview', 'numpy', 'recursive', 'numba', 'torch', 'jax', 'triton']\n"
     ]
    },
    {
     "name": "stderr",
     "output_type": "stream",
     "text": [
      "/home/plastic/Documents/MSSE/chem277B/hw/HW_01/kernel_registry.py:90: UserWarning: The given NumPy array is not writable, and PyTorch does not support non-writable tensors. This means writing to this tensor will result in undefined behavior. You may want to copy the array to protect its data or make it writable before converting it to a tensor. This type of warning will be suppressed for the rest of this program. (Triggered internally at /pytorch/torch/csrc/utils/tensor_numpy.cpp:203.)\n",
      "  t = self._torch.from_numpy(arr).to(device)\n"
     ]
    },
    {
     "name": "stdout",
     "output_type": "stream",
     "text": [
      "PASSED: sanity checks (ascii only)\n"
     ]
    }
   ],
   "source": [
    "# sanity check\n",
    "import importlib\n",
    "import palindrome as palindrome\n",
    "importlib.reload(palindrome)\n",
    "\n",
    "Palindrome_Checker = palindrome.Palindrome_Checker # we can't reload a single class from a module\n",
    "\n",
    "DEBUG = False\n",
    "\n",
    "def debug(msg):\n",
    "    if DEBUG:\n",
    "        print(f\"[DEBUG] {msg}\")\n",
    "\n",
    "#modes = ['map', 'break_loop', 'loop', 'recursive', 'pythonic', 'memoryview', 'numba', 'numpy', 'torch', 'triton', 'jax']\n",
    "modes = Palindrome_Checker(\"\").available()\n",
    "\n",
    "print(f\"mode under test: {modes}\")\n",
    "\n",
    "positive_tests = [ '', 'a', 'aa', 'aba', 'abba' ] # Mamma Mia\n",
    "negative_tests = [ 'ab', 'abb' ]\n",
    "naughty_tests = [ [], True, False, ord('\\ue000'), 69 ]\n",
    "\n",
    "#naughty_tests = [ '🧠' ] # Actaully this shows a fundumental bug with UTF-8 in modes 'memoryview', 'numba', 'numpy', ...\n",
    "\n",
    "for mode in modes:\n",
    "    debug(f\"mode: {mode}\")\n",
    "    for test_str in positive_tests:\n",
    "        debug(f\"   test_str: {test_str}\")\n",
    "        assert Palindrome_Checker(test_str, mode = mode).is_palindrome(), f\"Failed positive test in mode: {mode} with test string: {test_str}\"\n",
    "    for test_str in negative_tests:\n",
    "        debug(f\"   test_str: {test_str}\")        \n",
    "        assert not Palindrome_Checker(test_str, mode = mode).is_palindrome(), f\"Failed negative test in mode: {mode} with test string: {test_str}\"\n",
    "    for test_str in naughty_tests:\n",
    "        debug(f\"   test_str: {test_str}\")\n",
    "        try:\n",
    "            result = Palindrome_Checker(test_str, mode = mode).is_palindrome()\n",
    "        except AssertionError as err:\n",
    "            debug(f\"Caught assertion: {err}\")\n",
    "            continue\n",
    "        assert False, f\"Failed naughty test in mode: {mode} with test string: {test_str}\"\n",
    "\n",
    "print(\"PASSED: sanity checks (ascii only)\")"
   ]
  },
  {
   "cell_type": "markdown",
   "id": "12b2d2f3-0fe6-46dd-83c4-a7e4d934fcd9",
   "metadata": {},
   "source": [
    "It looks like all our contenders have passed the initial phase and are ready to move forward.\n",
    "\n",
    "We are zero-copy encoded each string into a tensor. Since we are not writing to it, the non-writable buffer warning from PyTorch is safe to ignore.\n",
    "\n",
    "Of course, we could have copied the array and avoided the warning entirely. But then, how would you know that we live such a dangerous life?\n",
    "\n",
    "$\\square$"
   ]
  },
  {
   "cell_type": "markdown",
   "id": "3cf38506-0701-4247-bd54-64f721e30aed",
   "metadata": {},
   "source": [
    "**Profiling**\n",
    "\n",
    "Before the battle begins, we search for weakness. We are not looking for brute force alone. Instead, we focus on complexity.\n",
    "\n",
    "We will not analyze every contender. Our attention is on those we can unburdened from excessive call overhead or time-heavy execution paths."
   ]
  },
  {
   "cell_type": "code",
   "execution_count": 19,
   "id": "a5588175-887a-48a8-854c-a607208fa763",
   "metadata": {},
   "outputs": [
    {
     "name": "stdout",
     "output_type": "stream",
     "text": [
      "string size under test in bytes: 1048617\n",
      "         5 function calls in 0.001 seconds\n",
      "\n",
      "   Ordered by: internal time\n",
      "\n",
      "   ncalls  tottime  percall  cumtime  percall filename:lineno(function)\n",
      "        1    0.001    0.001    0.001    0.001 palindrome.py:124(pythonic_test)\n",
      "        1    0.000    0.000    0.000    0.000 {method 'disable' of '_lsprof.Profiler' objects}\n",
      "        1    0.000    0.000    0.001    0.001 {built-in method builtins.exec}\n",
      "        1    0.000    0.000    0.001    0.001 palindrome.py:58(is_palindrome)\n",
      "        1    0.000    0.000    0.001    0.001 <string>:1(<module>)\n",
      "\n",
      "\n"
     ]
    }
   ],
   "source": [
    "import cProfile, sys\n",
    "import importlib\n",
    "import palindrome as palindrome\n",
    "importlib.reload(palindrome)\n",
    "\n",
    "pc = palindrome.Palindrome_Checker('a' * 1 * 1024**2, mode='pythonic')\n",
    "print(f\"string size under test in bytes: {sys.getsizeof(pc.input_str)}\")\n",
    "cProfile.run('pc.is_palindrome()', sort='tottime')"
   ]
  },
  {
   "cell_type": "markdown",
   "id": "9da64f94-6076-4cf9-af87-3636d9842d0a",
   "metadata": {},
   "source": [
    "Profiling can give us a deeper look into how each function operates, where it slows down, and where it might be refined.\n",
    "We have already uncovered plenty through analysis, and for now, our work with profiling is done.\n",
    "\n",
    "$\\square$"
   ]
  },
  {
   "cell_type": "markdown",
   "id": "4f108bec-e570-48de-ba7f-43595221dbff",
   "metadata": {},
   "source": [
    "**Collect Timing Results**\n",
    "\n",
    "The gates have opened. The contenders step into the ring. Each algorithm stands ready, sharpened and optimized, eager to prove its worth. This will be a clash of logic, speed, and raw computational power.\n",
    "\n",
    "We will measure execution time, expose inefficiencies, and crown the fastest in our Palindrome Battle Royale. Let the showdown begin.\n",
    "\n",
    "(Clearly we have been at this for a bit too long and we're starting to crack up.)"
   ]
  },
  {
   "cell_type": "code",
   "execution_count": 20,
   "id": "58ecd75a-624f-4b53-9fba-33b8b72ae8b9",
   "metadata": {},
   "outputs": [
    {
     "data": {
      "text/plain": [
       "['loop',\n",
       " 'break_loop',\n",
       " 'pythonic',\n",
       " 'map',\n",
       " 'memoryview',\n",
       " 'numpy',\n",
       " 'recursive',\n",
       " 'numba',\n",
       " 'torch',\n",
       " 'jax',\n",
       " 'triton']"
      ]
     },
     "execution_count": 20,
     "metadata": {},
     "output_type": "execute_result"
    }
   ],
   "source": [
    "import timeit, sys, importlib\n",
    "import palindrome as palindrome\n",
    "importlib.reload(palindrome)\n",
    "\n",
    "checker = palindrome.Palindrome_Checker('')\n",
    "checker.available()"
   ]
  },
  {
   "cell_type": "code",
   "execution_count": 21,
   "id": "e35c165d-f9ca-4b6d-a6f7-0959c0469c47",
   "metadata": {},
   "outputs": [
    {
     "name": "stdout",
     "output_type": "stream",
     "text": [
      "test string size (bytes): 26214441\n",
      "\n",
      "Sorted Timing Results:\n",
      "       torch: 0.011095\n",
      "      triton: 0.011833\n",
      "       numba: 0.032429\n",
      "       numpy: 0.038398\n",
      "    pythonic: 0.038781\n",
      "         jax: 0.090324\n",
      "         map: 0.689319\n",
      "  break_loop: 1.053348\n",
      "        loop: 1.054335\n",
      "  memoryview: 1.176570\n",
      "   recursive: Error\n"
     ]
    }
   ],
   "source": [
    "import timeit, sys, importlib\n",
    "import palindrome as palindrome\n",
    "importlib.reload(palindrome)\n",
    "\n",
    "runs = 3\n",
    "test_str = 'a' * 25 * 1024**2  # ~25MB string\n",
    "#test_str = 'a' * 1000 * 1024**2  # ~100MB string for battle royale\n",
    "\n",
    "pc = palindrome.Palindrome_Checker(test_str)\n",
    "print(f\"test string size (bytes): {sys.getsizeof(pc.input_str)}\")\n",
    "\n",
    "# modes under test (excluding 'recursive' due to stack overflow above ~5k)\n",
    "modes = pc.available()\n",
    "top_modes = ['pythonic', 'numba', 'numpy', 'torch', 'triton', 'jax'] # Battle Royale\n",
    "#modes = top_modes # battle royale mode\n",
    "\n",
    "timing_results = {}\n",
    "\n",
    "for mode in modes:\n",
    "    pc.mode = mode\n",
    "    try:\n",
    "        elapsed = timeit.timeit(lambda: pc.is_palindrome(), number=runs)\n",
    "        timing_results[mode] = elapsed / runs\n",
    "    except Exception as e:\n",
    "        timing_results[mode] = float('inf')  # test failed\n",
    "\n",
    "# sort and print results\n",
    "sorted_results = sorted(timing_results.items(), key=lambda item: item[1])\n",
    "\n",
    "print(\"\\nSorted Timing Results:\")\n",
    "for mode, time in sorted_results:\n",
    "    label = f\"{time:.6f}\" if time != float('inf') else \"Error\"\n",
    "    print(f\"{mode:>12}: {label}\")"
   ]
  },
  {
   "cell_type": "markdown",
   "id": "c0a45b74-c86c-4ddb-afc8-3d4e14aa7e28",
   "metadata": {},
   "source": [
    "Let's format these results into a table.\n",
    "We work damn hard to be lazy."
   ]
  },
  {
   "cell_type": "code",
   "execution_count": 22,
   "id": "0edae544-6dbb-4a21-a139-a74e96cd1509",
   "metadata": {},
   "outputs": [
    {
     "name": "stdout",
     "output_type": "stream",
     "text": [
      "| Method         | Time (seconds) | Notes                             |\n",
      "|----------------|----------------|-----------------------------------|\n",
      "| torch          | 0.0111         | PyTorch implimentation using CUDA   |\n",
      "| triton         | 0.0118         | Trition JIT CUDA Kernel             |\n",
      "| numba          | 0.0324         | JIT compiled byte array (fails UTF-8 test) |\n",
      "| numpy          | 0.0384         | Vectorized NumPy array comparison (fails UTF-8 test) |\n",
      "| pythonic       | 0.0388         | Efficient Python slicing            |\n",
      "| jax            | 0.0903         | JAX JIT CUDA Kernel                 |\n",
      "| map            | 0.6893         | Map with lambda                     |\n",
      "| break_loop     | 1.0533         | Loop with `break`                   |\n",
      "| loop           | 1.0543         | Loop with early return              |\n",
      "| memoryview     | 1.1766         | Byte-level access (fails UTF-8 test) |\n",
      "| recursive      | N/A            | Stack overflow (fails for large strings) |\n"
     ]
    }
   ],
   "source": [
    "# Format results into tables for markdown\n",
    "\n",
    "# notes for each method\n",
    "notes = {\n",
    "    'numba': 'JIT compiled byte array (fails UTF-8 test)',\n",
    "    'pythonic': 'Efficient Python slicing',\n",
    "    'map': 'Map with lambda',\n",
    "    'loop': 'Loop with early return',\n",
    "    'break_loop': 'Loop with `break`',\n",
    "    'memoryview': 'Byte-level access (fails UTF-8 test)',\n",
    "    'numpy': 'Vectorized NumPy array comparison (fails UTF-8 test)',\n",
    "    'recursive': 'Stack overflow (fails for large strings)',\n",
    "    'torch': 'PyTorch implimentation using CUDA',\n",
    "    'triton': 'Trition JIT CUDA Kernel',\n",
    "    'jax': 'JAX JIT CUDA Kernel'\n",
    "}\n",
    "\n",
    "# add our recursive non-result manually using a N/A time\n",
    "timing_results['recursive'] = float('inf')  # or None\n",
    "\n",
    "# sort results\n",
    "sorted_results = sorted(timing_results.items(), key=lambda item: item[1] if item[1] != float('inf') else float('inf')) # we love our lamba functions\n",
    "\n",
    "# our results as markdown\n",
    "print(\"| Method         | Time (seconds) | Notes                             |\")\n",
    "print(\"|----------------|----------------|-----------------------------------|\")\n",
    "for mode, time in sorted_results:\n",
    "    time_str = f\"{time:.4f}\" if time != float('inf') else \"N/A\"\n",
    "    note = notes.get(mode, \"\")\n",
    "    print(f\"| {mode:<14} | {time_str:<14} | {note:<35} |\")"
   ]
  },
  {
   "cell_type": "markdown",
   "id": "42541df3-284c-415f-9e21-861d566890bb",
   "metadata": {},
   "source": [
    "The results are in. Whether it was too much coffee or not quite enough, the battle has come to a close and the data is on the table.\n",
    "\n",
    "Each contender revealed its strengths and weaknesses. Some were swift, others stumbled, and a few surprised us with unexpected finesse.\n",
    "\n",
    "We have measured, compared, and crowned our champions. For now, the arena is quiet. The battle is complete.\n",
    "\n",
    "$\\square$\n",
    "\n",
    "Or is it? Only time will tell.\n",
    "\n",
    "The dust may have settled, but the code still lingers. There’s always one more tweak, one more contender, one more surprise waiting in the shadows.\n",
    "\n",
    "For now, we rest. However the arena never truly closes.\n",
    "\n",
    "$\\square$ $\\square$"
   ]
  },
  {
   "cell_type": "markdown",
   "id": "516e2da2-f6ad-4137-9e78-15a1f1ba49f5",
   "metadata": {},
   "source": [
    "#####  **Results and Conclusion**\n",
    "\n",
    "We set out to create a modular and extensible framework to explore a number of algorithmic strategies for evaluating palindrome strings.  \n",
    "We explored a range of algorithms from Pythonic string reversal, classical loops, to byte-level memory views and JIT-compiled Numba acceleration.  \n",
    "Our approach was to encapsulate our methods with a mode flag to allow us to quickly benchmark and compare our results.  \n",
    "We also created a few simple automated sanity tests to make sure we got the same result across all our methods.\n",
    "\n",
    "Our timing results were generated using strings approximately 25MB in size.\n",
    "The \"recursive\" method overflowed the stack at just 5KB, thus is excluded from our timing results.\n",
    "\n",
    "Our JIT-compiled Numba accelerated method showed the best preformance, with a speedup of 4x over the Pythonic string reversal.\n",
    "However like our Numba method, all our encoded buffer implemenations we have an issue with UTF-8 encoded characters since this representation uses multiple bytes (one to four bytes) to encode a character. However, byte-level memory views are used to compare individual bytes not entire characters, hence the speedup.\n",
    "Also branch-predictablity of \"numba\" is likely further improving pipelining of our instructions.\n",
    "While our method was indeed the fastest, simple UTF-8 cases such as '🧠' ( b'\\xf0\\x9f\\xa7\\xa0') break.\n",
    "Even our clever plan to use SIMD permutations would fail for the only slightly more complicated string of `🧠a🧠` ( b'\\xf0\\x9f\\xa7\\xa0**a**\\xf0\\x9f\\xa7\\xa0' ), so we abondoned this thrust for now.\n",
    "\n",
    "We continued to add methods such as \"torch\".  While this method is about half as fast as our fasted \"numba\" method, we believe this approach might be promising when processing large batches of strings.  Batch performance analysis is an area for further study.\n",
    "\n",
    "Our developement system, `Intel(R) Xeon(R) Gold 6146 CPU @ 3.20GHz`, showed that our \"loop\" method with `return` short-circuiting was sometimes faster (by about 15ms) than the \"break_loop\" method with `break` short-circuiting during mosts runs. \n",
    "We believe this may be due to memory alignment for SIMD instructions, because once the string was allocated the result was consistant.\n",
    "The datahub server, `Intel(R) Xeon(R) CPU @ 2.80GHz` was consistantly quicker with the `break` short-circuiting, however this is a shared user system and made profiling results difficult to reproduce.\n",
    "Further testing is needed to confirm our memory alignment hypothsis and explore other ideas such how process scheduling might affect `return` and `break` short-circuiting timing.\n",
    "\n",
    "---\n",
    "\n",
    "##### Palindrome Check Timing Results\n",
    "\n",
    "**Test string size:** 26,214,441 bytes (~25 MB)\n",
    "\n",
    "**Test runs avergaged:** 3\n",
    "\n",
    "\n",
    "| Method         | Time (seconds) | Notes                             |\n",
    "|----------------|----------------|-----------------------------------|\n",
    "| numba          | 0.0112         | JIT compiled byte array (fails UTF-8 test) |\n",
    "| triton         | 0.0115         | Trition JIT CUDA Kernel             |\n",
    "| torch          | 0.0163         | PyTorch implimentation using CUDA   |\n",
    "| pythonic       | 0.0384         | Efficient Python slicing            |\n",
    "| numpy          | 0.0394         | Vectorized NumPy array comparison (fails UTF-8 test) |\n",
    "| jax            | 0.0926         | JAX JIT CUDA Kernel                 |\n",
    "| map            | 0.6884         | Map with lambda                     |\n",
    "| break_loop     | 1.0448         | Loop with `break`                   |\n",
    "| loop           | 1.0503         | Loop with early return              |\n",
    "| memoryview     | 1.1689         | Byte-level access (fails UTF-8 test) |\n",
    "| recursive      | N/A            | Stack overflow (fails for large strings) |\n",
    "\n",
    "This also gave us pause to consider efficiency in general and what is meant by \"most efficient.\"\n",
    "How might we measure compute efficiency?\n",
    "Would it be in time, space, energy, utilization or something else entirely?\n",
    "There probably isn't one answer to these questions, but it is food for thought.\n",
    "\n",
    "All in all we had a lot of fun playing around!\n",
    "We took the opportunity to explore the math, flex our $LaTeX$ publishing skills, and building production-ready code.\n",
    "There are loads more we could've do but honestly, we should probaly step outside and enjoy the sun while it lasts.\n",
    "\n",
    "Cheers!\n",
    "\n",
    "$\\square$\n",
    "\n",
    "---\n",
    "\n",
    "We are back and sun-charged!  Our best algorithms battled over 1 GB of data, and the results are in.\n",
    "\n",
    "Triton step forward for the prize!\n",
    "\n",
    "**Test string size:** 1,048,576,041 bytes (~1GB)\n",
    "\n",
    "**Test runs avergaged:** 3\n",
    "\n",
    "| Method         | Time (seconds) | Notes                             |\n",
    "|----------------|----------------|-----------------------------------|\n",
    "| triton         | 1.0094         | Trition JIT CUDA Kernel             |\n",
    "| torch          | 1.0323         | PyTorch implimentation using CUDA   |\n",
    "| numba          | 1.0605         | JIT compiled byte array (fails UTF-8 test) |\n",
    "| jax            | 1.3281         | JAX JIT CUDA Kernel                 |\n",
    "| numpy          | 1.7192         | Vectorized NumPy array comparison (fails UTF-8 test) |\n",
    "| pythonic       | 1.8167         | Efficient Python slicing            |\n",
    "\n",
    "Once again, it is worth pointing out that only the 'pythonic' method properly handles UTF-8 input among our Battle Royale contestants.\n",
    "Maybe that makes this victory a little suspect.\n",
    "\n",
    "But in the arena, not every fight is clean. Sometimes you win by fighting dirty.\n",
    "\n",
    "$\\square$ $\\square$\n",
    "\n",
    "Future directions:\n",
    "\n",
    "- **performance scaling:** plot speedup across varying string sizes to reveal scaling behavior.\n",
    "- **flame graphs:** visualize call stack depth and time spent in critical functions.\n",
    "- **memory footprint:** measure peak memory usage and identify bloated implementations.\n",
    "- **character encoding:** use larger fixed size encoding of characters to untilize 512 bit AVX instructions\n",
    "- **edge cases:** test robustness against UTF-8, emoji, empty strings, and malformed input.\n",
    "- **hackathon & leaderboard:** develop and host a competitive benchmark challenge with live scoring.\n",
    "\n",
    "$\\square$ $\\square$ $\\square$"
   ]
  },
  {
   "cell_type": "markdown",
   "id": "9c35db86-28f0-497b-a49d-e73f3ac4bf4e",
   "metadata": {},
   "source": [
    "## Appendix"
   ]
  },
  {
   "cell_type": "markdown",
   "id": "a469c3a6-ab22-4e76-8926-8b23b8f8d797",
   "metadata": {},
   "source": [
    "#### Notes on LaTeX Support in Jupyter\n",
    "\n",
    "We extensively used $LaTeX$ throughout this notebook. While it renders beautifully in the browser, exporting to PDF via `pandoc` and `xelatex` offers little feedback when things go wrong.\n",
    "This makes troubleshooting difficult, especially when Markdown appears correct in Jupyter but fails silently in `nbconvert`.\n",
    "While exporting to HTML and printing to PDF via Chrome remains a tool of last resort, we choose debug each issue while documenting workflow.\n",
    "\n",
    "Open a terminal from within Jupyter Server for a bash shell to start troubleshooting.\n",
    "Export your notebook using `nbconvert` to convert to a `.tex` file, then render this file using `xelatex`.\n",
    "Now error line numbers directly point to the offending syntax, allowing us to the resolve issue... in most cases.\n",
    "\n",
    "---\n",
    "\n",
    "\n",
    "##### Check Versions\n",
    "\n",
    "```bash\n",
    "jupyter nbconvert --version\n",
    "pandoc --version\n",
    "xelatex --version\n",
    "```\n",
    "\n",
    "##### Go-for-Broke Test\n",
    "\n",
    "```bash\n",
    "jupyter nbconvert notebook.ipynb --to pdf\n",
    "```\n",
    "\n",
    "##### Viewable LaTeX Errors\n",
    "\n",
    "```bash\n",
    "jupyter nbconvert notebook.ipynb --to latex\n",
    "xelatex notebook.tex\n",
    "```\n",
    "\n",
    "##### Attempting a Custom Pandoc Template (this did not work as promised on the tin)\n",
    "\n",
    "```bash\n",
    "echo '\\usepackage{cancel}' > custom.tplx\n",
    "jupyter nbconvert notebook.ipynb --to pdf --template-file custom.tplx\n",
    "```\n",
    "\n",
    "##### Discover Jupyter Paths\n",
    "\n",
    "```bash\n",
    "jupyter --paths\n",
    "```\n",
    "\n",
    "Output:\n",
    "\n",
    "```\n",
    "config:\n",
    "    /home/plastic/.jupyter\n",
    "    /home/plastic/.local/etc/jupyter\n",
    "    /usr/etc/jupyter\n",
    "    /usr/local/etc/jupyter\n",
    "    /etc/jupyter\n",
    "data:\n",
    "    /home/plastic/.local/share/jupyter\n",
    "    /usr/local/share/jupyter\n",
    "    /usr/share/jupyter\n",
    "runtime:\n",
    "    /home/plastic/.local/share/jupyter/runtime\n",
    "```\n",
    "\n",
    "---\n",
    "\n",
    "#### Fixes\n",
    "\n",
    "- We noted that instead of `align`, we needed to use `aligned` since `$$ ... $$` already creates a display math block. That bug was on me.  We could've also used an align block without `$$ ... $$` however we're not animals.\n",
    "- We lacked the `cancel` package (`\\usepackage{cancel}`), so we attempted to inject it via a custom template. This showed promise but remains broken.  In the end, we removed `\\cancelto` from our Markdown. However, we might have manunaly added our custom usepackage to an intermediate `.tex` file as well.\n",
    "- The notebook used `$__init__$`, which triggered an `Underfull \\hbox` warning in LaTeX. We corrected that however that was a bug in the provided notebook."
   ]
  },
  {
   "cell_type": "markdown",
   "id": "c36d5b97-8db7-4a68-ad4f-8fdfe36572cb",
   "metadata": {},
   "source": [
    "## References\n",
    "\n",
    "https://www.pythoncheatsheet.org/\n",
    "\n",
    "https://docs.python.org/3/library/timeit.html\n",
    "\n",
    "https://builtin.com/articles/timing-functions-python\n",
    "\n",
    "https://test-nbconvertreturns.readthedocs.io/en/latest/customizing.html\n",
    "\n",
    "https://docs.sympy.org/latest/modules/plotting.html\n",
    "\n",
    "https://www.cmor-faculty.rice.edu/~heinken/latex/symbols.pdf\n",
    "\n",
    "https://pythonnumericalmethods.studentorg.berkeley.edu/notebooks/Index.html\n",
    "\n",
    "https://numba.readthedocs.io/en/stable/user/jit.html\n",
    "\n",
    "https://github.com/gpu-mode\n",
    "\n",
    "https://github.com/fractalclockwork/Chem277B.git\n"
   ]
  }
 ],
 "metadata": {
  "kernelspec": {
   "display_name": "Python 3 (ipykernel)",
   "language": "python",
   "name": "python3"
  },
  "language_info": {
   "codemirror_mode": {
    "name": "ipython",
    "version": 3
   },
   "file_extension": ".py",
   "mimetype": "text/x-python",
   "name": "python",
   "nbconvert_exporter": "python",
   "pygments_lexer": "ipython3",
   "version": "3.12.11"
  }
 },
 "nbformat": 4,
 "nbformat_minor": 5
}
